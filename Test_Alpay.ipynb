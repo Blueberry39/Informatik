{
 "cells": [
  {
   "cell_type": "code",
   "execution_count": 1,
   "metadata": {},
   "outputs": [
    {
     "name": "stdout",
     "output_type": "stream",
     "text": [
      "Hallo Alpay\n"
     ]
    }
   ],
   "source": [
    "x = (input(\"Wie ist dein Name?:\")) #simpler anfang von Code\n",
    "print(\"Hallo\", x)"
   ]
  },
  {
   "cell_type": "code",
   "execution_count": 2,
   "metadata": {},
   "outputs": [
    {
     "name": "stdout",
     "output_type": "stream",
     "text": [
      "Der Wechselkurs beträgt 763.0 $\n"
     ]
    }
   ],
   "source": [
    "euro = float(input(\"Wieviel € sollen umgerechnet werden?:\"))\n",
    "dollar = round(euro*1.09, 2)\n",
    "print(\"Der Wechselkurs beträgt\", dollar, \"$\")"
   ]
  },
  {
   "cell_type": "code",
   "execution_count": 6,
   "metadata": {},
   "outputs": [
    {
     "name": "stdout",
     "output_type": "stream",
     "text": [
      "9234.0 Liter ergeben umgerechnet 9.234 m³, 9234.0 dm³, 9234000.0 cm³ und 9234000000.0 mm³\n"
     ]
    }
   ],
   "source": [
    "liter = float(input(\"Wieviel Liter sollen umgerechnet werden?:\"))\n",
    "m = round(liter/1000, 3)\n",
    "dm = round(liter, 3)\n",
    "cm = round(dm*1000, 3)\n",
    "mm = round(cm*1000, 3)\n",
    "print(liter, \"Liter ergeben umgerechnet\", m, \"m³,\", dm, \"dm³,\", cm, \"cm³ und\", mm, \"mm³\")"
   ]
  },
  {
   "cell_type": "code",
   "execution_count": 1,
   "metadata": {},
   "outputs": [
    {
     "name": "stdout",
     "output_type": "stream",
     "text": [
      "Du hast auf 100km einen durchschnittlichen Kraftstoffverbrauch von 4.615 Liter\n"
     ]
    }
   ],
   "source": [
    "Kraftstoff = float(input(\"Wieviel Liter Kraftsoff hast du verbraucht?:\"))\n",
    "Kilometer = float(input(\"Und wieviel Kilometer bist du gefahren?:\"))\n",
    "avgVerbrauch = round(Kilometer/Kraftstoff, 3)\n",
    "print(\"Du hast auf 100km einen durchschnittlichen Kraftstoffverbrauch von\",avgVerbrauch, \"Liter\")\n"
   ]
  },
  {
   "cell_type": "code",
   "execution_count": 6,
   "metadata": {},
   "outputs": [
    {
     "name": "stdout",
     "output_type": "stream",
     "text": [
      "1\n"
     ]
    }
   ],
   "source": [
    "x = int(input(\"Wie groß ist x?:\")) # aufgabe 1.5 if-else statements \n",
    "y = 18\n",
    "if x != y:\n",
    "  z = x-y\n",
    "  print(z)\n",
    "else: print(\"X und Y sind gleich gro0\")"
   ]
  }
 ],
 "metadata": {
  "kernelspec": {
   "display_name": "Python 3",
   "language": "python",
   "name": "python3"
  },
  "language_info": {
   "codemirror_mode": {
    "name": "ipython",
    "version": 3
   },
   "file_extension": ".py",
   "mimetype": "text/x-python",
   "name": "python",
   "nbconvert_exporter": "python",
   "pygments_lexer": "ipython3",
   "version": "3.11.3"
  },
  "orig_nbformat": 4
 },
 "nbformat": 4,
 "nbformat_minor": 2
}
