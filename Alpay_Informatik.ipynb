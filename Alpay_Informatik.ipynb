{
 "cells": [
  {
   "cell_type": "code",
   "execution_count": 1,
   "metadata": {},
   "outputs": [
    {
     "name": "stdout",
     "output_type": "stream",
     "text": [
      "Hallo Alpay\n"
     ]
    }
   ],
   "source": [
    "x = (input(\"Wie ist dein Name?:\")) #simpler anfang von Code\n",
    "print(\"Hallo\", x)"
   ]
  },
  {
   "cell_type": "code",
   "execution_count": 2,
   "metadata": {},
   "outputs": [
    {
     "name": "stdout",
     "output_type": "stream",
     "text": [
      "Der Wechselkurs beträgt 763.0 $\n"
     ]
    }
   ],
   "source": [
    "euro = float(input(\"Wieviel € sollen umgerechnet werden?:\"))\n",
    "dollar = round(euro*1.09, 2)\n",
    "print(\"Der Wechselkurs beträgt\", dollar, \"$\")"
   ]
  },
  {
   "cell_type": "code",
   "execution_count": 6,
   "metadata": {},
   "outputs": [
    {
     "name": "stdout",
     "output_type": "stream",
     "text": [
      "9234.0 Liter ergeben umgerechnet 9.234 m³, 9234.0 dm³, 9234000.0 cm³ und 9234000000.0 mm³\n"
     ]
    }
   ],
   "source": [
    "liter = float(input(\"Wieviel Liter sollen umgerechnet werden?:\"))\n",
    "m = round(liter/1000, 3)\n",
    "dm = round(liter, 3)\n",
    "cm = round(dm*1000, 3)\n",
    "mm = round(cm*1000, 3)\n",
    "print(liter, \"Liter ergeben umgerechnet\", m, \"m³,\", dm, \"dm³,\", cm, \"cm³ und\", mm, \"mm³\")"
   ]
  },
  {
   "cell_type": "code",
   "execution_count": 1,
   "metadata": {},
   "outputs": [
    {
     "name": "stdout",
     "output_type": "stream",
     "text": [
      "Du hast auf 100km einen durchschnittlichen Kraftstoffverbrauch von 4.615 Liter\n"
     ]
    }
   ],
   "source": [
    "Kraftstoff = float(input(\"Wieviel Liter Kraftsoff hast du verbraucht?:\"))\n",
    "Kilometer = float(input(\"Und wieviel Kilometer bist du gefahren?:\"))\n",
    "avgVerbrauch = round(Kilometer/Kraftstoff, 3)\n",
    "print(\"Du hast auf 100km einen durchschnittlichen Kraftstoffverbrauch von\",avgVerbrauch, \"Liter\")\n"
   ]
  },
  {
   "cell_type": "code",
   "execution_count": 6,
   "metadata": {},
   "outputs": [
    {
     "name": "stdout",
     "output_type": "stream",
     "text": [
      "1\n"
     ]
    }
   ],
   "source": [
    "x = int(input(\"Wie groß ist x?:\")) # aufgabe 1.5.1 if-else statements \n",
    "y = 18\n",
    "if x != y:\n",
    "  z = x-y\n",
    "  print(z)\n",
    "else: print(\"X und Y sind gleich gro0\")"
   ]
  },
  {
   "cell_type": "code",
   "execution_count": 3,
   "metadata": {},
   "outputs": [
    {
     "name": "stdout",
     "output_type": "stream",
     "text": [
      "Die Zahl beträgt jetzt 9\n"
     ]
    }
   ],
   "source": [
    "zahl = int(input(\"Wie groß soll die Zahl sein?:\"))\n",
    "n = int(input(\"Wie groß soll n sein?:\"))\n",
    "if zahl >= n:\n",
    "    zahl = 0\n",
    "    print(\"Die Zahl wurde auf 0 gesetzt\")\n",
    "else:\n",
    "    zahl=zahl + 1\n",
    "    print(\"Die Zahl beträgt jetzt\", zahl)"
   ]
  },
  {
   "cell_type": "code",
   "execution_count": 5,
   "metadata": {},
   "outputs": [
    {
     "name": "stdout",
     "output_type": "stream",
     "text": [
      "Das Ergebnis beträgt 128\n"
     ]
    }
   ],
   "source": [
    "x = int(input(\"Gebe einen Wert für x an:\")) #aufgabe 1.5.3\n",
    "y = int(input(\"Gebe einen Wert für y an:\"))\n",
    "if x - y != 128:\n",
    "    x = x+1\n",
    "    y = y-1\n",
    "    print(\"X beträgt nun\",x,\" und Y beträgt nun\",y)\n",
    "else:\n",
    "    print(\"Das Ergebnis beträgt 128\")\n",
    "\n",
    "    "
   ]
  },
  {
   "cell_type": "code",
   "execution_count": 11,
   "metadata": {},
   "outputs": [
    {
     "name": "stdout",
     "output_type": "stream",
     "text": [
      "10\n"
     ]
    }
   ],
   "source": [
    "x = 10\n",
    "\n",
    "if x>0: \n",
    "   print(x) \n",
    "else:\n",
    "   print(-x)"
   ]
  },
  {
   "cell_type": "code",
   "execution_count": 21,
   "metadata": {},
   "outputs": [
    {
     "name": "stdout",
     "output_type": "stream",
     "text": [
      "1\n",
      "2\n"
     ]
    }
   ],
   "source": [
    "x = 10\n",
    "\n",
    "if x%2==0: \n",
    "    print(1)\n",
    "if x%5==0: \n",
    "     print(2) \n",
    "else:\n",
    "     print(3)\n"
   ]
  },
  {
   "cell_type": "code",
   "execution_count": 20,
   "metadata": {},
   "outputs": [
    {
     "name": "stdout",
     "output_type": "stream",
     "text": [
      "Blödsinn!\n"
     ]
    }
   ],
   "source": [
    "alter = int(input(\"Wie alt sind Sie? \"))\n",
    "if alter < 0:\n",
    "    print(\"Blödsinn!\")\n",
    "elif alter < 18:\n",
    "    print(\"Kein Zugang!\")\n",
    "else:\n",
    "    print(\"XXX\")"
   ]
  },
  {
   "cell_type": "code",
   "execution_count": null,
   "metadata": {},
   "outputs": [],
   "source": [
    "def zahlbetrag(x): #aufgabe p.9\n",
    "    if x < 25:\n",
    "        return x\n",
    "    elif x < 150:\n",
    "        return round(x * 0.85, 2)\n",
    "    else:\n",
    "        return round(x * 0.75, 2)\n"
   ]
  }
 ],
 "metadata": {
  "kernelspec": {
   "display_name": "Python 3",
   "language": "python",
   "name": "python3"
  },
  "language_info": {
   "codemirror_mode": {
    "name": "ipython",
    "version": 3
   },
   "file_extension": ".py",
   "mimetype": "text/x-python",
   "name": "python",
   "nbconvert_exporter": "python",
   "pygments_lexer": "ipython3",
   "version": "3.11.3"
  },
  "orig_nbformat": 4
 },
 "nbformat": 4,
 "nbformat_minor": 2
}
