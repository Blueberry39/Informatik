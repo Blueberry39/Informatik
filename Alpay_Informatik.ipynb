{
 "cells": [
  {
   "cell_type": "code",
   "execution_count": 1,
   "metadata": {},
   "outputs": [
    {
     "name": "stdout",
     "output_type": "stream",
     "text": [
      "Hallo Alpay\n"
     ]
    }
   ],
   "source": [
    "x = (input(\"Wie ist dein Name?:\")) #simpler anfang von Code\n",
    "print(\"Hallo\", x)"
   ]
  },
  {
   "cell_type": "code",
   "execution_count": 2,
   "metadata": {},
   "outputs": [
    {
     "name": "stdout",
     "output_type": "stream",
     "text": [
      "Der Wechselkurs beträgt 763.0 $\n"
     ]
    }
   ],
   "source": [
    "euro = float(input(\"Wieviel € sollen umgerechnet werden?:\"))\n",
    "dollar = round(euro*1.09, 2)\n",
    "print(\"Der Wechselkurs beträgt\", dollar, \"$\")\n"
   ]
  },
  {
   "cell_type": "code",
   "execution_count": 6,
   "metadata": {},
   "outputs": [
    {
     "name": "stdout",
     "output_type": "stream",
     "text": [
      "9234.0 Liter ergeben umgerechnet 9.234 m³, 9234.0 dm³, 9234000.0 cm³ und 9234000000.0 mm³\n"
     ]
    }
   ],
   "source": [
    "liter = float(input(\"Wieviel Liter sollen umgerechnet werden?:\"))\n",
    "m = round(liter/1000, 3)\n",
    "dm = round(liter, 3)\n",
    "cm = round(dm*1000, 3)\n",
    "mm = round(cm*1000, 3)\n",
    "print(liter, \"Liter ergeben umgerechnet\", m, \"m³,\", dm, \"dm³,\", cm, \"cm³ und\", mm, \"mm³\")"
   ]
  },
  {
   "cell_type": "code",
   "execution_count": 1,
   "metadata": {},
   "outputs": [
    {
     "name": "stdout",
     "output_type": "stream",
     "text": [
      "Du hast auf 100km einen durchschnittlichen Kraftstoffverbrauch von 4.615 Liter\n"
     ]
    }
   ],
   "source": [
    "Kraftstoff = float(input(\"Wieviel Liter Kraftstoff hast du verbraucht?:\"))\n",
    "Kilometer = float(input(\"Und wieviel Kilometer bist du gefahren?:\"))\n",
    "avgVerbrauch = round(Kilometer/Kraftstoff, 3)\n",
    "print(\"Du hast auf 100km einen durchschnittlichen Kraftstoffverbrauch von\",avgVerbrauch, \"Liter\")\n"
   ]
  },
  {
   "cell_type": "code",
   "execution_count": 15,
   "metadata": {},
   "outputs": [
    {
     "name": "stdout",
     "output_type": "stream",
     "text": [
      "Dein Reaktionsweg beträgt 27 m, dein Bremsweg 18 m und dein Anhalteweg 45 m\n"
     ]
    }
   ],
   "source": [
    "geschwindigkeit = float(input(\"Wie schnell bist du gefahren?:\"))\n",
    "reaktionsweg = round((geschwindigkeit/10)*3,2)\n",
    "bremsweg = round((geschwindigkeit/10)*2,2)\n",
    "anhalteweg = reaktionsweg + bremsweg\n",
    "print(\"Dein Reaktionsweg beträgt\", round(reaktionsweg), \"m, dein Bremsweg\", round(bremsweg), \"m und dein Anhalteweg\", round(anhalteweg), \"m\")"
   ]
  },
  {
   "cell_type": "code",
   "execution_count": 6,
   "metadata": {},
   "outputs": [
    {
     "name": "stdout",
     "output_type": "stream",
     "text": [
      "1\n"
     ]
    }
   ],
   "source": [
    "x = int(input(\"Wie groß ist x?:\")) # aufgabe 1.5.1 if-else statements \n",
    "y = 18\n",
    "if x != y:\n",
    "  z = x-y\n",
    "  print(z)\n",
    "else: print(\"X und Y sind gleich gro0\")"
   ]
  },
  {
   "cell_type": "code",
   "execution_count": 3,
   "metadata": {},
   "outputs": [
    {
     "name": "stdout",
     "output_type": "stream",
     "text": [
      "Die Zahl beträgt jetzt 9\n"
     ]
    }
   ],
   "source": [
    "zahl = int(input(\"Wie groß soll die Zahl sein?:\")) #aufgabe 1.5.2\n",
    "n = int(input(\"Wie groß soll n sein?:\"))\n",
    "if zahl >= n:\n",
    "    zahl = 0\n",
    "    print(\"Die Zahl wurde auf 0 gesetzt\")\n",
    "else:\n",
    "    zahl=zahl + 1\n",
    "    print(\"Die Zahl beträgt jetzt\", zahl)"
   ]
  },
  {
   "cell_type": "code",
   "execution_count": 5,
   "metadata": {},
   "outputs": [
    {
     "name": "stdout",
     "output_type": "stream",
     "text": [
      "Das Ergebnis beträgt 128\n"
     ]
    }
   ],
   "source": [
    "x = int(input(\"Gebe einen Wert für x an:\")) #aufgabe 1.5.3\n",
    "y = int(input(\"Gebe einen Wert für y an:\"))\n",
    "if x - y != 128:\n",
    "    x = x+1\n",
    "    y = y-1\n",
    "    print(\"X beträgt nun\",x,\" und Y beträgt nun\",y)\n",
    "else:\n",
    "    print(\"Das Ergebnis beträgt 128\")\n",
    "\n",
    "    "
   ]
  },
  {
   "cell_type": "code",
   "execution_count": 9,
   "metadata": {},
   "outputs": [
    {
     "name": "stdout",
     "output_type": "stream",
     "text": [
      "3\n"
     ]
    }
   ],
   "source": [
    "x = -3  #für -3 kommt 3, für 5 kommt 5, für 10 kommt 10\n",
    "\n",
    "if x>0: \n",
    "   print(x) \n",
    "else:\n",
    "   print(-x)"
   ]
  },
  {
   "cell_type": "code",
   "execution_count": 22,
   "metadata": {},
   "outputs": [
    {
     "name": "stdout",
     "output_type": "stream",
     "text": [
      "1\n",
      "2\n"
     ]
    }
   ],
   "source": [
    "x = 10  #aufgabe p6\n",
    "\n",
    "if x%2==0:  ## % ist der rest zB 20%7 ist 6 da dies der Rest ist der nicht geteilt werden kann\n",
    "    print(1)\n",
    "    if x%5==0: \n",
    "     print(2) \n",
    "else:\n",
    "     print(3)\n",
    "  #für -3 kommt 3, für 5 kommt 3 und für 10 kommt 1 und 2"
   ]
  },
  {
   "cell_type": "code",
   "execution_count": 23,
   "metadata": {},
   "outputs": [
    {
     "name": "stdout",
     "output_type": "stream",
     "text": [
      "Kein Zugang!\n"
     ]
    }
   ],
   "source": [
    "alter = int(input(\"Wie alt sind Sie? \")) #aufgabe p.7\n",
    "if alter < 0:\n",
    "    print(\"Blödsinn!\")\n",
    "elif alter < 18:\n",
    "    print(\"Kein Zugang!\")\n",
    "else:\n",
    "    print(\"XXX\")"
   ]
  },
  {
   "cell_type": "code",
   "execution_count": 26,
   "metadata": {},
   "outputs": [],
   "source": [
    "def zahlbetrag(x): #aufgabe p.8\n",
    "    if x < 25:\n",
    "        return x\n",
    "    elif 25 <= x < 150:\n",
    "        return round(x * 0.85, 2)\n",
    "    else:\n",
    "        return round(x * 0.75, 2)\n"
   ]
  },
  {
   "cell_type": "code",
   "execution_count": 29,
   "metadata": {},
   "outputs": [],
   "source": []
  },
  {
   "cell_type": "code",
   "execution_count": 26,
   "metadata": {},
   "outputs": [
    {
     "name": "stdout",
     "output_type": "stream",
     "text": [
      "Die Brutto MwSt beträgt 15.97 €\n",
      "Die Mehrwertsteuer vom Nettobetrag beträgt 19.0 €\n"
     ]
    }
   ],
   "source": [
    "x = float(input(\"Wieviel € sollen umgerechnet werden vom Bruttobetrag?:\"))\n",
    "def mwstbrutto(x):  #aufgabe p.10\n",
    "    return round((x/1.19) * 0.19, 2)\n",
    "x = mwstbrutto(x)\n",
    "print(\"Die Brutto MwSt beträgt\", x, \"€\")\n",
    "\n",
    "\n",
    "def brutto(x):\n",
    "    return round(x + mwstbrutto(x), 2)\n",
    "\n",
    "def netto(x):\n",
    "    return round(x / 1.19, 2)\n",
    "\n",
    "y = float(input(\"Wieviel € sollen umgerechnet werden?:\"))\n",
    "def mwstnetto(y):\n",
    "    return round(y*0.19,2)\n",
    "y = mwstnetto(y)\n",
    "print(\"Die Mehrwertsteuer vom Nettobetrag beträgt\",y,\"€\")\n",
    "\n"
   ]
  },
  {
   "cell_type": "code",
   "execution_count": 2,
   "metadata": {},
   "outputs": [
    {
     "name": "stdout",
     "output_type": "stream",
     "text": [
      "0\n",
      "1\n",
      "2\n",
      "3\n",
      "4\n",
      "5\n",
      "6\n",
      "7\n",
      "8\n",
      "9\n"
     ]
    }
   ],
   "source": [
    "for x in range(0,10): #for solange bis grenzwert erreicht ist P.11 A\n",
    "    print(x)"
   ]
  },
  {
   "cell_type": "code",
   "execution_count": 3,
   "metadata": {},
   "outputs": [
    {
     "name": "stdout",
     "output_type": "stream",
     "text": [
      "10\n",
      "9\n",
      "8\n",
      "7\n",
      "6\n",
      "5\n",
      "4\n",
      "3\n",
      "2\n",
      "1\n"
     ]
    }
   ],
   "source": [
    "for x in range(10,0,-1): \n",
    "    print(x)"
   ]
  },
  {
   "cell_type": "code",
   "execution_count": 4,
   "metadata": {},
   "outputs": [
    {
     "name": "stdout",
     "output_type": "stream",
     "text": [
      "1\n",
      "4\n",
      "7\n",
      "10\n",
      "13\n"
     ]
    }
   ],
   "source": [
    "for x in range(1,15,3):\n",
    "    print(x)"
   ]
  },
  {
   "cell_type": "code",
   "execution_count": 9,
   "metadata": {},
   "outputs": [],
   "source": [
    "for x in range(10,0,2):  #p11 D\n",
    "    print(x)   #keine ausführung da ddie schrittdistanz positiv ist bei etwas sinkendem = fehler"
   ]
  },
  {
   "cell_type": "code",
   "execution_count": 20,
   "metadata": {},
   "outputs": [
    {
     "name": "stdout",
     "output_type": "stream",
     "text": [
      "Die Summe beträgt nun 1000\n"
     ]
    }
   ],
   "source": [
    "summe = int(input(\"Gib einen Wert für die Summe ein:\"))  # Aufgabe p.12 A\n",
    "if summe == 1000:\n",
    "    print(\"Der Wert ist bereits 1000\")\n",
    "else:\n",
    "    while summe != 1000:\n",
    "        summe = summe + 1\n",
    "    print(\"Die Summe beträgt nun\",summe)"
   ]
  },
  {
   "cell_type": "code",
   "execution_count": 25,
   "metadata": {},
   "outputs": [
    {
     "name": "stdout",
     "output_type": "stream",
     "text": [
      "X und Y sind bereits ungleich\n"
     ]
    }
   ],
   "source": [
    "x = int(input(\"Wert für X eingeben\"))  # Aufgabe P.12 B\n",
    "y = int(input(\"Wert für Y eingeben\"))\n",
    "if x == y:\n",
    "    while x == y:\n",
    "        x = x - 1\n",
    "    print(\"X und Y sind nun ungleich\")\n",
    "else:\n",
    "    print(\"X und Y sind bereits ungleich\")"
   ]
  },
  {
   "cell_type": "code",
   "execution_count": 28,
   "metadata": {},
   "outputs": [
    {
     "name": "stdout",
     "output_type": "stream",
     "text": [
      "Zahl ist nun kleiner als der Wert n 40 und beträgt nun 39\n"
     ]
    }
   ],
   "source": [
    "zahl = int(input(\"Wert für zahl eingeben\"))  # Aufgabe P.12 C\n",
    "n = int(input(\"Wert für n eingeben\"))\n",
    "\n",
    "if zahl >= n:\n",
    "    while zahl >= n:\n",
    "        zahl = zahl - 1\n",
    "    print(\"Zahl ist nun kleiner als der Wert n\",n,\"und beträgt nun\",zahl)\n",
    "else:\n",
    "    print(\"Die Zahl ist bereits kleiner als n\")"
   ]
  },
  {
   "cell_type": "code",
   "execution_count": 3,
   "metadata": {},
   "outputs": [
    {
     "name": "stdout",
     "output_type": "stream",
     "text": [
      "X - Y beträgt bereits 145\n"
     ]
    }
   ],
   "source": [
    "x = int(input(\"Wert für X eingeben\"))  # Aufgabe P.12 D\n",
    "y = int(input(\"Wert für Y eingeben\"))\n",
    "\n",
    "if x - y != 145:\n",
    "    while (x - y) != 145:\n",
    "        x = int(input(\"Wert für X eingeben\"))  \n",
    "        y = int(input(\"Wert für Y eingeben\"))\n",
    "        print(\"x beträgt nun\",x,\"und y beträgt nun\",y,\"somit ist die Summe 145\")\n",
    "else:\n",
    "    print(\"X - Y beträgt bereits 145\")\n"
   ]
  },
  {
   "cell_type": "code",
   "execution_count": 10,
   "metadata": {},
   "outputs": [
    {
     "name": "stdout",
     "output_type": "stream",
     "text": [
      "A*B ist bereits ungleich dem Ergebis von C*D\n"
     ]
    }
   ],
   "source": [
    "a = int(input(\"Gib einen Wert für a ein\"))   #Aufgabe P.12 E\n",
    "b = int(input(\"Gib einen Wert für b ein\"))\n",
    "c = int(input(\"Gib einen Wert für c ein\"))\n",
    "d = int(input(\"Gib einen Wert für d ein\"))\n",
    "y = a*b\n",
    "z = c*d\n",
    "\n",
    "if (a * b) == (c * d):\n",
    "    while (a * b) == (c * d):\n",
    "        a = a - 3\n",
    "        b = b - 3\n",
    "        c = c - 2\n",
    "        d = d + 1\n",
    "        print(\"Die Variabelwerte wurden nun alle verändert und A*B beträgt nun\", y,\"und c*d beträgt nun\",z)\n",
    "else:\n",
    "    print(\"A*B ist bereits ungleich dem Ergebis von C*D\")"
   ]
  },
  {
   "cell_type": "code",
   "execution_count": 16,
   "metadata": {},
   "outputs": [
    {
     "name": "stdout",
     "output_type": "stream",
     "text": [
      "Schlomo Tscheino Habibi\n"
     ]
    }
   ],
   "source": []
  }
 ],
 "metadata": {
  "kernelspec": {
   "display_name": "Python 3",
   "language": "python",
   "name": "python3"
  },
  "language_info": {
   "codemirror_mode": {
    "name": "ipython",
    "version": 3
   },
   "file_extension": ".py",
   "mimetype": "text/x-python",
   "name": "python",
   "nbconvert_exporter": "python",
   "pygments_lexer": "ipython3",
   "version": "3.11.3"
  },
  "orig_nbformat": 4
 },
 "nbformat": 4,
 "nbformat_minor": 2
}
