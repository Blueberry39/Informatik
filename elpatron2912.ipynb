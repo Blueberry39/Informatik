{
 "cells": [
  {
   "cell_type": "code",
   "execution_count": 13,
   "metadata": {},
   "outputs": [
    {
     "name": "stdout",
     "output_type": "stream",
     "text": [
      "Hallo  Alpay\n"
     ]
    }
   ],
   "source": [
    "#p1\n",
    "x = (input(\"Wie heißt Du?\"))\n",
    "\n",
    "print(\"Hallo \", x )"
   ]
  },
  {
   "cell_type": "code",
   "execution_count": 14,
   "metadata": {},
   "outputs": [
    {
     "name": "stdout",
     "output_type": "stream",
     "text": [
      "Für  4000.0 Dollar erhalten Sie 3669.72 Euro.\n"
     ]
    }
   ],
   "source": [
    "#p2\n",
    "x = float(input(\"Bitte aktuellen Wert des Dollar in Euro eingeben: \"))\n",
    "\n",
    "y = float(input(\"Wie viel Dollar möchten sie wechseln?\"))\n",
    "\n",
    "z = round(y/x, 2)\n",
    "\n",
    "print(\"Für \",y ,\"Dollar erhalten Sie\",z ,\"Euro.\")"
   ]
  },
  {
   "cell_type": "code",
   "execution_count": 15,
   "metadata": {},
   "outputs": [
    {
     "name": "stdout",
     "output_type": "stream",
     "text": [
      "0.04 m³\n",
      "40.0 dm³\n",
      "40000.0 cm³\n",
      "40000000.0 mm³\n"
     ]
    }
   ],
   "source": [
    "#p3\n",
    "x = float(input(\"Wie viel Liter möchten Sie umrechnen?\"))\n",
    "\n",
    "a = round(x/1000, 2)\n",
    "b = round(x/1, 2)\n",
    "c = round(x*1000, 2)\n",
    "d = round(x*1000000, 2)\n",
    "\n",
    "print(a, \"m³\")\n",
    "print(b, \"dm³\")\n",
    "print(c, \"cm³\")\n",
    "print(d, \"mm³\")"
   ]
  },
  {
   "cell_type": "code",
   "execution_count": 16,
   "metadata": {},
   "outputs": [
    {
     "name": "stdout",
     "output_type": "stream",
     "text": [
      "Sie haben 5.52 Liter verbraucht\n"
     ]
    }
   ],
   "source": [
    "#p4\n",
    "x = float(input(\"Wie viel Liter verbraucht Ihr Auto pro 100km?\"))\n",
    "\n",
    "y = float(input(\"Wie viel Kilometer sind Sie gefahren?\"))\n",
    "\n",
    "z = round(x/100*y, 2)\n",
    "\n",
    "print(\"Sie haben\", z,\"Liter verbraucht\")"
   ]
  }
 ],
 "metadata": {
  "kernelspec": {
   "display_name": "Python 3",
   "language": "python",
   "name": "python3"
  },
  "language_info": {
   "codemirror_mode": {
    "name": "ipython",
    "version": 3
   },
   "file_extension": ".py",
   "mimetype": "text/x-python",
   "name": "python",
   "nbconvert_exporter": "python",
   "pygments_lexer": "ipython3",
   "version": "3.11.3"
  },
  "orig_nbformat": 4
 },
 "nbformat": 4,
 "nbformat_minor": 2
}
